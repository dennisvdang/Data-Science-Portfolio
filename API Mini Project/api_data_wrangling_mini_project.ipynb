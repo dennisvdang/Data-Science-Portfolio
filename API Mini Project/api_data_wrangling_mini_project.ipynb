{
 "cells": [
  {
   "cell_type": "markdown",
   "metadata": {},
   "source": [
    "This exercise will require you to pull some data from https://data.nasdaq.com/ (formerly Quandl API)."
   ]
  },
  {
   "cell_type": "markdown",
   "metadata": {},
   "source": [
    "As a first step, you will need to register a free account on the https://data.nasdaq.com/ website."
   ]
  },
  {
   "cell_type": "markdown",
   "metadata": {},
   "source": [
    "After you register, you will be provided with a unique API key, that you should store:\n",
    "\n",
    "*Note*: Use a `.env` file and put your key in there and `python-dotenv` to access it in this notebook. \n",
    "\n",
    "The code below uses a key that was used when generating this project but has since been deleted. Never submit your keys to source control. There is a `.env-example` file in this repository to illusrtate what you need. Copy that to a file called `.env` and use your own api key in that `.env` file. Make sure you also have a `.gitignore` file with a line for `.env` added to it. \n",
    "\n",
    "The standard Python gitignore is [here](https://github.com/github/gitignore/blob/master/Python.gitignore) you can just copy that. "
   ]
  },
  {
   "cell_type": "code",
   "execution_count": 16,
   "metadata": {},
   "outputs": [],
   "source": [
    "# get api key from your .env file\n",
    "import os\n",
    "from dotenv import load_dotenv\n",
    "\n",
    "load_dotenv()\n",
    "API_KEY = os.getenv('NASDAQ_API_KEY')"
   ]
  },
  {
   "cell_type": "markdown",
   "metadata": {},
   "source": [
    "Nasdaq Data has a large number of data sources, but, unfortunately, most of them require a Premium subscription. Still, there are also a good number of free datasets."
   ]
  },
  {
   "cell_type": "markdown",
   "metadata": {},
   "source": [
    "For this mini project, we will focus on equities data from the Frankfurt Stock Exhange (FSE), which is available for free. We'll try and analyze the stock prices of a company called Carl Zeiss Meditec, which manufactures tools for eye examinations, as well as medical lasers for laser eye surgery: https://www.zeiss.com/meditec/int/home.html. The company is listed under the stock ticker AFX_X."
   ]
  },
  {
   "cell_type": "markdown",
   "metadata": {},
   "source": [
    "You can find the detailed Nasdaq Data API instructions here: https://docs.data.nasdaq.com/docs/in-depth-usage"
   ]
  },
  {
   "cell_type": "markdown",
   "metadata": {},
   "source": [
    "While there is a dedicated Python package for connecting to the Nasdaq API, we would prefer that you use the *requests* package, which can be easily downloaded using *pip* or *conda*. You can find the documentation for the package here: http://docs.python-requests.org/en/master/ "
   ]
  },
  {
   "cell_type": "markdown",
   "metadata": {},
   "source": [
    "Finally, apart from the *requests* package, you are encouraged to not use any third party Python packages, such as *pandas*, and instead focus on what's available in the Python Standard Library (the *collections* module might come in handy: https://pymotw.com/3/collections/).\n",
    "Also, since you won't have access to DataFrames, you are encouraged to us Python's native data structures - preferably dictionaries, though some questions can also be answered using lists.\n",
    "You can read more on these data structures here: https://docs.python.org/3/tutorial/datastructures.html"
   ]
  },
  {
   "cell_type": "markdown",
   "metadata": {},
   "source": [
    "Keep in mind that the JSON responses you will be getting from the API map almost one-to-one to Python's dictionaries. Unfortunately, they can be very nested, so make sure you read up on indexing dictionaries in the documentation provided above."
   ]
  },
  {
   "cell_type": "code",
   "execution_count": 17,
   "metadata": {},
   "outputs": [],
   "source": [
    "# First, import the relevant modules\n",
    "import os\n",
    "from dotenv import load_dotenv\n",
    "import requests\n",
    "import pandas as pd\n",
    "import json"
   ]
  },
  {
   "cell_type": "markdown",
   "metadata": {},
   "source": [
    "Note: API's can change a bit with each version, for this exercise it is reccomended to use the nasdaq api at `https://data.nasdaq.com/api/v3/`. This is the same api as what used to be quandl so `https://www.quandl.com/api/v3/` should work too.\n",
    "\n",
    "Hint: We are looking for the `AFX_X` data on the `datasets/FSE/` dataset."
   ]
  },
  {
   "cell_type": "code",
   "execution_count": 18,
   "metadata": {},
   "outputs": [
    {
     "name": "stdout",
     "output_type": "stream",
     "text": [
      "{\n",
      "    \"dataset_data\": {\n",
      "        \"collapse\": null,\n",
      "        \"column_index\": null,\n",
      "        \"column_names\": [\n",
      "            \"Date\",\n",
      "            \"Open\",\n",
      "            \"High\",\n",
      "            \"Low\",\n",
      "            \"Close\",\n",
      "            \"Change\",\n",
      "            \"Traded Volume\",\n",
      "            \"Turnover\",\n",
      "            \"Last Price of the Day\",\n",
      "            \"Daily Traded Units\",\n",
      "            \"Daily Turnover\"\n",
      "        ],\n",
      "        \"data\": [\n",
      "            [\n",
      "                \"2020-12-01\",\n",
      "                112.2,\n",
      "                112.2,\n",
      "                111.5,\n",
      "                112.0,\n",
      "                null,\n",
      "                51.0,\n",
      "                5703.0,\n",
      "                null,\n",
      "                null,\n",
      "                null\n",
      "            ]\n",
      "        ],\n",
      "        \"end_date\": \"2020-12-01\",\n",
      "        \"frequency\": \"daily\",\n",
      "        \"limit\": 1,\n",
      "        \"order\": null,\n",
      "        \"start_date\": \"2000-06-07\",\n",
      "        \"transform\": null\n",
      "    }\n",
      "}\n"
     ]
    }
   ],
   "source": [
    "# Now, call the Nasdaq API and pull out a small sample of the data (only one day) to get a glimpse\n",
    "# into the JSON structure that will be returned\n",
    "url = \"https://data.nasdaq.com/api/v3/datasets/FSE/AFX_X/data.json\"\n",
    "\n",
    "params = {\n",
    "    'api_key': API_KEY,\n",
    "    'limit': 1  # Limit the number of rows to just one to get a small sample.\n",
    "}\n",
    "\n",
    "response = requests.get(url, params=params)\n",
    "data_sample = response.json()\n",
    "\n",
    "# Inspect the JSON structure of the object you created, and take note of how nested it is,\n",
    "# as well as the overall structure\n",
    "print(json.dumps(data_sample, indent=4, sort_keys=True))"
   ]
  },
  {
   "cell_type": "markdown",
   "metadata": {},
   "source": [
    "These are your tasks for this mini project:\n",
    "\n",
    "1. Collect data from the Franfurt Stock Exchange, for the ticker AFX_X, for the whole year 2017 (keep in mind that the date format is YYYY-MM-DD).\n",
    "2. Convert the returned JSON object into a Python dictionary.\n",
    "3. Calculate what the highest and lowest opening prices were for the stock in this period.\n",
    "4. What was the largest change in any one day (based on High and Low price)?\n",
    "5. What was the largest change between any two days (based on Closing Price)?\n",
    "6. What was the average daily trading volume during this year?\n",
    "7. (Optional) What was the median trading volume during this year. (Note: you may need to implement your own function for calculating the median.)"
   ]
  },
  {
   "cell_type": "code",
   "execution_count": 19,
   "metadata": {},
   "outputs": [
    {
     "name": "stdout",
     "output_type": "stream",
     "text": [
      "         Date   Open   High    Low  Close  Change  Traded Volume   Turnover  \\\n",
      "0  2017-12-29  51.76  51.94  51.45  51.76     NaN        34640.0  1792304.0   \n",
      "1  2017-12-28  51.65  51.82  51.43  51.60     NaN        40660.0  2099024.0   \n",
      "2  2017-12-27  51.45  51.89  50.76  51.82     NaN        57452.0  2957018.0   \n",
      "3  2017-12-22  51.05  51.50  50.92  51.32     NaN        71165.0  3641949.0   \n",
      "4  2017-12-21  51.16  51.52  50.90  51.40     NaN       120649.0  6179433.0   \n",
      "\n",
      "  Last Price of the Day Daily Traded Units Daily Turnover  \n",
      "0                  None               None           None  \n",
      "1                  None               None           None  \n",
      "2                  None               None           None  \n",
      "3                  None               None           None  \n",
      "4                  None               None           None  \n"
     ]
    }
   ],
   "source": [
    "#Collect data from the Franfurt Stock Exchange, for the ticker AFX_X, for the whole year 2017.\n",
    "url = \"https://data.nasdaq.com/api/v3/datasets/FSE/AFX_X/data.json\"\n",
    "\n",
    "params = {\n",
    "    'api_key': API_KEY,\n",
    "    'start_date': '2017-01-01',\n",
    "    'end_date': '2017-12-31'\n",
    "}\n",
    "\n",
    "# Send the API request and convert the returned JSON object into a Python dictionary\n",
    "response = requests.get(url, params=params)\n",
    "data = response.json()\n",
    "\n",
    "# Extract relevant data from dictionary \n",
    "dataset = data['dataset_data']\n",
    "data_2017 = dataset['data']\n",
    "column_names = dataset['column_names']\n",
    "\n",
    "# Convert into data frame\n",
    "df = pd.DataFrame(data_2017, columns=column_names)\n",
    "print(df.head())"
   ]
  },
  {
   "cell_type": "code",
   "execution_count": 20,
   "metadata": {},
   "outputs": [
    {
     "name": "stdout",
     "output_type": "stream",
     "text": [
      "Highest opening price in 2017: 53.11\n",
      "Lowest opening price in 2017: 34.0\n",
      "Largest change in any one day in 2017: 2.8100000000000023\n",
      "Largest change between two days in 2017: 2.559999999999995\n",
      "Average daily trading volume in 2017: 89124.33725490196\n",
      "Median daily trading volume in 2017: 76286.0\n"
     ]
    }
   ],
   "source": [
    "# Calculate highest and lowest opening price \n",
    "highest_opening = df['Open'].max()\n",
    "lowest_opening = df['Open'].min()\n",
    "\n",
    "# Calculate the largest change in any one day\n",
    "df['Daily_Change'] = abs(df['High'] - df['Low'])\n",
    "largest_change_in_a_day = df['Daily_Change'].max()\n",
    "\n",
    "# Calculate the largest change between any two days based on Closing Price\n",
    "# Using `abs` to get the absolute value of overnight changes\n",
    "df['Previous_Close'] = df['Close'].shift(1)\n",
    "df['Overnight_Change'] = abs(df['Close'] - df['Previous_Close'])\n",
    "largest_change_between_days = df['Overnight_Change'].max(skipna=True)\n",
    "\n",
    "# Calculate the average daily trading volume\n",
    "average_daily_volume = df['Traded Volume'].mean()\n",
    "\n",
    "# Calculate the median trading volume\n",
    "median_trading_volume = df['Traded Volume'].median()\n",
    "\n",
    "# Print the results\n",
    "print(f'Highest opening price in 2017: {highest_opening}')\n",
    "print(f'Lowest opening price in 2017: {lowest_opening}')\n",
    "print(f'Largest change in any one day in 2017: {largest_change_in_a_day}')\n",
    "print(f'Largest change between two days in 2017: {largest_change_between_days}')\n",
    "print(f'Average daily trading volume in 2017: {average_daily_volume}')\n",
    "print(f'Median daily trading volume in 2017: {median_trading_volume}')"
   ]
  }
 ],
 "metadata": {
  "interpreter": {
   "hash": "7635eb1b9d0fe97add78a7368b6b431c09bb8ad5c42e437d64abdd99821c31ae"
  },
  "kernelspec": {
   "display_name": "Python 3 (ipykernel)",
   "language": "python",
   "name": "python3"
  },
  "language_info": {
   "codemirror_mode": {
    "name": "ipython",
    "version": 3
   },
   "file_extension": ".py",
   "mimetype": "text/x-python",
   "name": "python",
   "nbconvert_exporter": "python",
   "pygments_lexer": "ipython3",
   "version": "3.11.5"
  }
 },
 "nbformat": 4,
 "nbformat_minor": 4
}
